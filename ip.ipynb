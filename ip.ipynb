{
 "cells": [
  {
   "cell_type": "markdown",
   "metadata": {},
   "source": [
    "# Inverted pendulum"
   ]
  },
  {
   "cell_type": "code",
   "execution_count": 1,
   "metadata": {},
   "outputs": [],
   "source": [
    "import numpy as np\n",
    "import torch as tch"
   ]
  },
  {
   "cell_type": "code",
   "execution_count": 2,
   "metadata": {},
   "outputs": [],
   "source": [
    "dev = tch.device(\"cuda:0\")"
   ]
  },
  {
   "cell_type": "code",
   "execution_count": 3,
   "metadata": {},
   "outputs": [
    {
     "data": {
      "text/plain": [
       "tensor([ 0.,  1.,  4.,  9., 16., 25., 36., 49., 64., 81.], device='cuda:0')"
      ]
     },
     "execution_count": 3,
     "metadata": {},
     "output_type": "execute_result"
    }
   ],
   "source": [
    "x = tch.arange(10.0).to(dev)\n",
    "x ** 2"
   ]
  },
  {
   "cell_type": "code",
   "execution_count": 51,
   "metadata": {},
   "outputs": [],
   "source": [
    "def step(state: tch.Tensor, action: tch.tensor, dt: float) -> tch.Tensor:\n",
    "    \"\"\"\n",
    "    Inverted pendulum simulation step\n",
    "    `state` - tensor of shape (batch_size, 3) where last dim items are [moment_of_inertia, angle, angular_velocity]\n",
    "    `action` - tensor of shape (batch_size, 1) containing torque\n",
    "    \"\"\"\n",
    "    gravity = 9.8\n",
    "    friction = 2e-1\n",
    "\n",
    "    moment_of_inertia, angle, angular_velocity = state[:, 0], state[:, 1], state[:, 2]\n",
    "    torque = action[:, 0]\n",
    "    acceleration = (torque - friction * angular_velocity) / moment_of_inertia - gravity * angle.cos()\n",
    "    # TODO: Use RK4 instead of Euler method\n",
    "    return tch.stack([moment_of_inertia, angle + angular_velocity * dt, angular_velocity + acceleration * dt], dim=1)"
   ]
  },
  {
   "cell_type": "code",
   "execution_count": 5,
   "metadata": {},
   "outputs": [],
   "source": [
    "from ipycanvas import Canvas, hold_canvas"
   ]
  },
  {
   "cell_type": "code",
   "execution_count": 6,
   "metadata": {},
   "outputs": [],
   "source": [
    "canvas = Canvas(width=640, height=640)"
   ]
  },
  {
   "cell_type": "code",
   "execution_count": 42,
   "metadata": {},
   "outputs": [],
   "source": [
    "def draw(state: np.ndarray, canvas: Canvas):\n",
    "    from math import sin, cos, sqrt\n",
    "\n",
    "    moment_of_inertia, angle, angular_velocity = state\n",
    "\n",
    "    with hold_canvas():\n",
    "        canvas.clear()\n",
    "        canvas.fill_style = \"yellow\"\n",
    "        canvas.stroke_style = \"black\"\n",
    "\n",
    "        length = 0.75 * min(canvas.width, canvas.height) / 2\n",
    "        center = np.array([canvas.width / 2, canvas.height / 2])\n",
    "        position = center + np.array([length * cos(angle), -length * sin(angle)])\n",
    "        canvas.stroke_line(*center, *position)\n",
    "        size = 0.1 * length * sqrt(moment_of_inertia)\n",
    "        canvas.fill_circle(*position, size)\n",
    "        canvas.stroke_circle(*position, size)"
   ]
  },
  {
   "cell_type": "code",
   "execution_count": 52,
   "metadata": {},
   "outputs": [
    {
     "ename": "KeyboardInterrupt",
     "evalue": "",
     "output_type": "error",
     "traceback": [
      "\u001b[0;31m---------------------------------------------------------------------------\u001b[0m",
      "\u001b[0;31mKeyboardInterrupt\u001b[0m                         Traceback (most recent call last)",
      "Cell \u001b[0;32mIn[52], line 9\u001b[0m\n\u001b[1;32m      7\u001b[0m draw(state\u001b[38;5;241m.\u001b[39msqueeze(\u001b[38;5;241m0\u001b[39m)\u001b[38;5;241m.\u001b[39mnumpy(force\u001b[38;5;241m=\u001b[39m\u001b[38;5;28;01mTrue\u001b[39;00m), canvas)\n\u001b[1;32m      8\u001b[0m state \u001b[38;5;241m=\u001b[39m step(state, tch\u001b[38;5;241m.\u001b[39mzeros((\u001b[38;5;241m1\u001b[39m, \u001b[38;5;241m1\u001b[39m)), dt)\n\u001b[0;32m----> 9\u001b[0m sleep(dt)\n",
      "\u001b[0;31mKeyboardInterrupt\u001b[0m: "
     ]
    }
   ],
   "source": [
    "from time import sleep\n",
    "\n",
    "state = tch.tensor([[1.0, 1.0, 0.0]])\n",
    "dt = 1 / 24\n",
    "\n",
    "for i in range(1000):\n",
    "    draw(state.squeeze(0).numpy(force=True), canvas)\n",
    "    state = step(state, tch.zeros((1, 1)), dt)\n",
    "    sleep(dt)"
   ]
  },
  {
   "cell_type": "code",
   "execution_count": 11,
   "metadata": {},
   "outputs": [
    {
     "data": {
      "application/vnd.jupyter.widget-view+json": {
       "model_id": "aba919a28f634977827c6d446ccf4cc3",
       "version_major": 2,
       "version_minor": 0
      },
      "text/plain": [
       "Canvas(height=640, width=640)"
      ]
     },
     "execution_count": 11,
     "metadata": {},
     "output_type": "execute_result"
    }
   ],
   "source": [
    "canvas"
   ]
  },
  {
   "cell_type": "code",
   "execution_count": null,
   "metadata": {},
   "outputs": [],
   "source": []
  }
 ],
 "metadata": {
  "kernelspec": {
   "display_name": ".venv",
   "language": "python",
   "name": "python3"
  },
  "language_info": {
   "codemirror_mode": {
    "name": "ipython",
    "version": 3
   },
   "file_extension": ".py",
   "mimetype": "text/x-python",
   "name": "python",
   "nbconvert_exporter": "python",
   "pygments_lexer": "ipython3",
   "version": "3.11.2"
  }
 },
 "nbformat": 4,
 "nbformat_minor": 2
}
